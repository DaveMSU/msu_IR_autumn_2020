{
  "nbformat": 4,
  "nbformat_minor": 0,
  "metadata": {
    "colab": {
      "name": "rolevance_IR",
      "provenance": [],
      "collapsed_sections": []
    },
    "kernelspec": {
      "name": "python3",
      "display_name": "Python 3"
    },
    "widgets": {
      "application/vnd.jupyter.widget-state+json": {
        "7ef8dd495e584cb1a225349ed8d061a0": {
          "model_module": "@jupyter-widgets/controls",
          "model_name": "HBoxModel",
          "state": {
            "_view_name": "HBoxView",
            "_dom_classes": [],
            "_model_name": "HBoxModel",
            "_view_module": "@jupyter-widgets/controls",
            "_model_module_version": "1.5.0",
            "_view_count": null,
            "_view_module_version": "1.5.0",
            "box_style": "",
            "layout": "IPY_MODEL_bc72d117ef8e4b17904c28b557a8dd2b",
            "_model_module": "@jupyter-widgets/controls",
            "children": [
              "IPY_MODEL_e6680e78f6ef4cf9869c0ecf83e2b1a2",
              "IPY_MODEL_68905116d3e14058b72546a5238d4d81"
            ]
          }
        },
        "bc72d117ef8e4b17904c28b557a8dd2b": {
          "model_module": "@jupyter-widgets/base",
          "model_name": "LayoutModel",
          "state": {
            "_view_name": "LayoutView",
            "grid_template_rows": null,
            "right": null,
            "justify_content": null,
            "_view_module": "@jupyter-widgets/base",
            "overflow": null,
            "_model_module_version": "1.2.0",
            "_view_count": null,
            "flex_flow": null,
            "width": null,
            "min_width": null,
            "border": null,
            "align_items": null,
            "bottom": null,
            "_model_module": "@jupyter-widgets/base",
            "top": null,
            "grid_column": null,
            "overflow_y": null,
            "overflow_x": null,
            "grid_auto_flow": null,
            "grid_area": null,
            "grid_template_columns": null,
            "flex": null,
            "_model_name": "LayoutModel",
            "justify_items": null,
            "grid_row": null,
            "max_height": null,
            "align_content": null,
            "visibility": null,
            "align_self": null,
            "height": null,
            "min_height": null,
            "padding": null,
            "grid_auto_rows": null,
            "grid_gap": null,
            "max_width": null,
            "order": null,
            "_view_module_version": "1.2.0",
            "grid_template_areas": null,
            "object_position": null,
            "object_fit": null,
            "grid_auto_columns": null,
            "margin": null,
            "display": null,
            "left": null
          }
        },
        "e6680e78f6ef4cf9869c0ecf83e2b1a2": {
          "model_module": "@jupyter-widgets/controls",
          "model_name": "FloatProgressModel",
          "state": {
            "_view_name": "ProgressView",
            "style": "IPY_MODEL_985ba6ecaad846eba2f028598ca148bb",
            "_dom_classes": [],
            "description": "100%",
            "_model_name": "FloatProgressModel",
            "bar_style": "success",
            "max": 400,
            "_view_module": "@jupyter-widgets/controls",
            "_model_module_version": "1.5.0",
            "value": 400,
            "_view_count": null,
            "_view_module_version": "1.5.0",
            "orientation": "horizontal",
            "min": 0,
            "description_tooltip": null,
            "_model_module": "@jupyter-widgets/controls",
            "layout": "IPY_MODEL_156e347940824fa1805d016fc37b706d"
          }
        },
        "68905116d3e14058b72546a5238d4d81": {
          "model_module": "@jupyter-widgets/controls",
          "model_name": "HTMLModel",
          "state": {
            "_view_name": "HTMLView",
            "style": "IPY_MODEL_ff531b85ce694c64bf92c36b5dcdaffe",
            "_dom_classes": [],
            "description": "",
            "_model_name": "HTMLModel",
            "placeholder": "​",
            "_view_module": "@jupyter-widgets/controls",
            "_model_module_version": "1.5.0",
            "value": " 400/400 [1:41:46&lt;00:00, 15.27s/it]",
            "_view_count": null,
            "_view_module_version": "1.5.0",
            "description_tooltip": null,
            "_model_module": "@jupyter-widgets/controls",
            "layout": "IPY_MODEL_743a14862eec4341aabf661cde4cb373"
          }
        },
        "985ba6ecaad846eba2f028598ca148bb": {
          "model_module": "@jupyter-widgets/controls",
          "model_name": "ProgressStyleModel",
          "state": {
            "_view_name": "StyleView",
            "_model_name": "ProgressStyleModel",
            "description_width": "initial",
            "_view_module": "@jupyter-widgets/base",
            "_model_module_version": "1.5.0",
            "_view_count": null,
            "_view_module_version": "1.2.0",
            "bar_color": null,
            "_model_module": "@jupyter-widgets/controls"
          }
        },
        "156e347940824fa1805d016fc37b706d": {
          "model_module": "@jupyter-widgets/base",
          "model_name": "LayoutModel",
          "state": {
            "_view_name": "LayoutView",
            "grid_template_rows": null,
            "right": null,
            "justify_content": null,
            "_view_module": "@jupyter-widgets/base",
            "overflow": null,
            "_model_module_version": "1.2.0",
            "_view_count": null,
            "flex_flow": null,
            "width": null,
            "min_width": null,
            "border": null,
            "align_items": null,
            "bottom": null,
            "_model_module": "@jupyter-widgets/base",
            "top": null,
            "grid_column": null,
            "overflow_y": null,
            "overflow_x": null,
            "grid_auto_flow": null,
            "grid_area": null,
            "grid_template_columns": null,
            "flex": null,
            "_model_name": "LayoutModel",
            "justify_items": null,
            "grid_row": null,
            "max_height": null,
            "align_content": null,
            "visibility": null,
            "align_self": null,
            "height": null,
            "min_height": null,
            "padding": null,
            "grid_auto_rows": null,
            "grid_gap": null,
            "max_width": null,
            "order": null,
            "_view_module_version": "1.2.0",
            "grid_template_areas": null,
            "object_position": null,
            "object_fit": null,
            "grid_auto_columns": null,
            "margin": null,
            "display": null,
            "left": null
          }
        },
        "ff531b85ce694c64bf92c36b5dcdaffe": {
          "model_module": "@jupyter-widgets/controls",
          "model_name": "DescriptionStyleModel",
          "state": {
            "_view_name": "StyleView",
            "_model_name": "DescriptionStyleModel",
            "description_width": "",
            "_view_module": "@jupyter-widgets/base",
            "_model_module_version": "1.5.0",
            "_view_count": null,
            "_view_module_version": "1.2.0",
            "_model_module": "@jupyter-widgets/controls"
          }
        },
        "743a14862eec4341aabf661cde4cb373": {
          "model_module": "@jupyter-widgets/base",
          "model_name": "LayoutModel",
          "state": {
            "_view_name": "LayoutView",
            "grid_template_rows": null,
            "right": null,
            "justify_content": null,
            "_view_module": "@jupyter-widgets/base",
            "overflow": null,
            "_model_module_version": "1.2.0",
            "_view_count": null,
            "flex_flow": null,
            "width": null,
            "min_width": null,
            "border": null,
            "align_items": null,
            "bottom": null,
            "_model_module": "@jupyter-widgets/base",
            "top": null,
            "grid_column": null,
            "overflow_y": null,
            "overflow_x": null,
            "grid_auto_flow": null,
            "grid_area": null,
            "grid_template_columns": null,
            "flex": null,
            "_model_name": "LayoutModel",
            "justify_items": null,
            "grid_row": null,
            "max_height": null,
            "align_content": null,
            "visibility": null,
            "align_self": null,
            "height": null,
            "min_height": null,
            "padding": null,
            "grid_auto_rows": null,
            "grid_gap": null,
            "max_width": null,
            "order": null,
            "_view_module_version": "1.2.0",
            "grid_template_areas": null,
            "object_position": null,
            "object_fit": null,
            "grid_auto_columns": null,
            "margin": null,
            "display": null,
            "left": null
          }
        }
      }
    }
  },
  "cells": [
    {
      "cell_type": "code",
      "metadata": {
        "id": "jEAhITcFdoD_"
      },
      "source": [
        "import numpy as np\n",
        "import pandas as pd\n",
        "import tensorflow as tf\n",
        "import tensorflow_text\n",
        "import tensorflow_hub as hub\n",
        "\n",
        "from collections import defaultdict\n",
        "from tqdm.notebook import tqdm\n",
        "\n",
        "import os"
      ],
      "execution_count": 208,
      "outputs": []
    },
    {
      "cell_type": "code",
      "metadata": {
        "colab": {
          "base_uri": "https://localhost:8080/"
        },
        "id": "Nqe2bhN-dviO",
        "outputId": "a8ef7e3a-2122-4083-c9a0-8222d85f0da3"
      },
      "source": [
        "from google.colab import drive\n",
        "drive.mount('/content/drive')"
      ],
      "execution_count": 247,
      "outputs": [
        {
          "output_type": "stream",
          "text": [
            "Drive already mounted at /content/drive; to attempt to forcibly remount, call drive.mount(\"/content/drive\", force_remount=True).\n"
          ],
          "name": "stdout"
        }
      ]
    },
    {
      "cell_type": "code",
      "metadata": {
        "colab": {
          "base_uri": "https://localhost:8080/",
          "height": 419
        },
        "id": "D-YkFTYzMH4I",
        "outputId": "1f04fe3f-9c10-443a-8972-5336ba5eec25"
      },
      "source": [
        "sample_submission = pd.read_csv('/content/drive/MyDrive/sample.technosphere.ir1.textrelevance.submission.txt')\n",
        "sample_submission"
      ],
      "execution_count": 262,
      "outputs": [
        {
          "output_type": "execute_result",
          "data": {
            "text/html": [
              "<div>\n",
              "<style scoped>\n",
              "    .dataframe tbody tr th:only-of-type {\n",
              "        vertical-align: middle;\n",
              "    }\n",
              "\n",
              "    .dataframe tbody tr th {\n",
              "        vertical-align: top;\n",
              "    }\n",
              "\n",
              "    .dataframe thead th {\n",
              "        text-align: right;\n",
              "    }\n",
              "</style>\n",
              "<table border=\"1\" class=\"dataframe\">\n",
              "  <thead>\n",
              "    <tr style=\"text-align: right;\">\n",
              "      <th></th>\n",
              "      <th>QueryId</th>\n",
              "      <th>DocumentId</th>\n",
              "    </tr>\n",
              "  </thead>\n",
              "  <tbody>\n",
              "    <tr>\n",
              "      <th>0</th>\n",
              "      <td>1</td>\n",
              "      <td>1</td>\n",
              "    </tr>\n",
              "    <tr>\n",
              "      <th>1</th>\n",
              "      <td>1</td>\n",
              "      <td>2</td>\n",
              "    </tr>\n",
              "    <tr>\n",
              "      <th>2</th>\n",
              "      <td>1</td>\n",
              "      <td>3</td>\n",
              "    </tr>\n",
              "    <tr>\n",
              "      <th>3</th>\n",
              "      <td>1</td>\n",
              "      <td>4</td>\n",
              "    </tr>\n",
              "    <tr>\n",
              "      <th>4</th>\n",
              "      <td>1</td>\n",
              "      <td>5</td>\n",
              "    </tr>\n",
              "    <tr>\n",
              "      <th>...</th>\n",
              "      <td>...</td>\n",
              "      <td>...</td>\n",
              "    </tr>\n",
              "    <tr>\n",
              "      <th>38767</th>\n",
              "      <td>399</td>\n",
              "      <td>38110</td>\n",
              "    </tr>\n",
              "    <tr>\n",
              "      <th>38768</th>\n",
              "      <td>399</td>\n",
              "      <td>38111</td>\n",
              "    </tr>\n",
              "    <tr>\n",
              "      <th>38769</th>\n",
              "      <td>399</td>\n",
              "      <td>38112</td>\n",
              "    </tr>\n",
              "    <tr>\n",
              "      <th>38770</th>\n",
              "      <td>399</td>\n",
              "      <td>38113</td>\n",
              "    </tr>\n",
              "    <tr>\n",
              "      <th>38771</th>\n",
              "      <td>399</td>\n",
              "      <td>38114</td>\n",
              "    </tr>\n",
              "  </tbody>\n",
              "</table>\n",
              "<p>38772 rows × 2 columns</p>\n",
              "</div>"
            ],
            "text/plain": [
              "       QueryId  DocumentId\n",
              "0            1           1\n",
              "1            1           2\n",
              "2            1           3\n",
              "3            1           4\n",
              "4            1           5\n",
              "...        ...         ...\n",
              "38767      399       38110\n",
              "38768      399       38111\n",
              "38769      399       38112\n",
              "38770      399       38113\n",
              "38771      399       38114\n",
              "\n",
              "[38772 rows x 2 columns]"
            ]
          },
          "metadata": {
            "tags": []
          },
          "execution_count": 262
        }
      ]
    },
    {
      "cell_type": "code",
      "metadata": {
        "id": "5gu_xwtV3AMA"
      },
      "source": [
        "f = open('/content/drive/MyDrive/queries.numerate.txt', 'r')\n",
        "queries = list(map(lambda x: x.split('\\t')[-1].split(), f.read().split('\\n')))"
      ],
      "execution_count": 93,
      "outputs": []
    },
    {
      "cell_type": "code",
      "metadata": {
        "id": "o-42BDCYx2OA"
      },
      "source": [
        "file_name = '/content/drive/MyDrive/headers.zip'\n",
        "\n",
        "with zipfile.ZipFile(file_name, 'r') as zip:\n",
        "    zip.extractall()"
      ],
      "execution_count": null,
      "outputs": []
    },
    {
      "cell_type": "code",
      "metadata": {
        "id": "NPfbSNiQz3ZG"
      },
      "source": [
        "files_names = os.listdir('headers')"
      ],
      "execution_count": 88,
      "outputs": []
    },
    {
      "cell_type": "code",
      "metadata": {
        "id": "oM3mVEohy7ti"
      },
      "source": [
        "files_words = []\n",
        "\n",
        "for file_name in files_names:\n",
        "  f = open('headers/{}'.format(file_name), 'r')\n",
        "  files_words.append(f.read().split())"
      ],
      "execution_count": 89,
      "outputs": []
    },
    {
      "cell_type": "code",
      "metadata": {
        "id": "A0pxmwrqzWwm"
      },
      "source": [
        "all_words = []\n",
        "\n",
        "for query in queries:\n",
        "  all_words.extend(query)\n",
        "\n",
        "for doc_keys in files_words:\n",
        "  all_words.extend(doc_keys)"
      ],
      "execution_count": 101,
      "outputs": []
    },
    {
      "cell_type": "code",
      "metadata": {
        "id": "Pq7zluii5wzb"
      },
      "source": [
        "idf_words = defaultdict(float)\n",
        "\n",
        "for doc_keys in files_words:\n",
        "  for key in set(doc_keys):\n",
        "    idf_words[key] += 1\n",
        "\n",
        "idf_words = {word: 1/idf_value for word, idf_value in idf_words.items()}\n",
        "idf_words.update({word: 1.0 for word in all_words})"
      ],
      "execution_count": 138,
      "outputs": []
    },
    {
      "cell_type": "code",
      "metadata": {
        "colab": {
          "base_uri": "https://localhost:8080/"
        },
        "id": "5MBNYyJMBseM",
        "outputId": "9d6594a4-9bfc-4a13-e85b-065dc79e8e20"
      },
      "source": [
        "avg_doc_len = np.mean([len(line) for line in files_words])"
      ],
      "execution_count": 139,
      "outputs": [
        {
          "output_type": "execute_result",
          "data": {
            "text/plain": [
              "9.041585769008764"
            ]
          },
          "metadata": {
            "tags": []
          },
          "execution_count": 139
        }
      ]
    },
    {
      "cell_type": "code",
      "metadata": {
        "id": "ls52dHZY-qGz"
      },
      "source": [
        "def BM25_score(doc_id, query_id, k=2, b=0.75):\n",
        "\n",
        "  bm25_score = 0.0\n",
        "  doc = files_words[doc_id]\n",
        "  query = queries[query_id]\n",
        "\n",
        "  query_tf = defaultdict(float)\n",
        "  for word in query:\n",
        "      query_tf[word] = doc.count(word)\n",
        "  \n",
        "  for word in query:\n",
        "    bm25_score += idf_words[word] * ((query_tf[word] * (k+1)) / (query_tf[word] + k*(1 - b + b * (len(doc)/avg_doc_len))))\n",
        "  \n",
        "  return bm25_score"
      ],
      "execution_count": 175,
      "outputs": []
    },
    {
      "cell_type": "code",
      "metadata": {
        "id": "ha_oyXS7B_D3"
      },
      "source": [
        "doc_id_rand = np.random.randint(0,len(files_words))\n",
        "query_id_rand = np.random.randint(0, len(queries))\n",
        "\n",
        "bm25_score_dict = dict()\n",
        "for doc_id in range(len(files_words)):\n",
        "  bm25_score_dict.update({doc_id: BM25_score(doc_id, 0)})\n",
        "  # print('doc_id', doc_id, ' - ', bm25_score_list[-1])"
      ],
      "execution_count": 184,
      "outputs": []
    },
    {
      "cell_type": "code",
      "metadata": {
        "colab": {
          "base_uri": "https://localhost:8080/"
        },
        "id": "O-zBM-7EMlqu",
        "outputId": "03c95080-0fab-4762-84cd-3518b9fcaff0"
      },
      "source": [
        "submission.query('QueryId == 1').iloc[:,1].values"
      ],
      "execution_count": 261,
      "outputs": [
        {
          "output_type": "execute_result",
          "data": {
            "text/plain": [
              "array([], dtype=int64)"
            ]
          },
          "metadata": {
            "tags": []
          },
          "execution_count": 261
        }
      ]
    },
    {
      "cell_type": "code",
      "metadata": {
        "colab": {
          "base_uri": "https://localhost:8080/",
          "height": 66,
          "referenced_widgets": [
            "7ef8dd495e584cb1a225349ed8d061a0",
            "bc72d117ef8e4b17904c28b557a8dd2b",
            "e6680e78f6ef4cf9869c0ecf83e2b1a2",
            "68905116d3e14058b72546a5238d4d81",
            "985ba6ecaad846eba2f028598ca148bb",
            "156e347940824fa1805d016fc37b706d",
            "ff531b85ce694c64bf92c36b5dcdaffe",
            "743a14862eec4341aabf661cde4cb373"
          ]
        },
        "id": "Ctb9KTDaDpF-",
        "outputId": "400de75b-3c71-4dfc-dd94-3d80594a48a2"
      },
      "source": [
        "sub_list = []\n",
        "for query_id in tqdm(range(0, len(queries))):\n",
        "\n",
        "  bm25_score_dict = dict()\n",
        "  for doc_id in range(len(files_words)):\n",
        "    bm25_score_dict.update({doc_id: BM25_score(doc_id, query_id)})\n",
        "\n",
        "  real_query_id = query_id + 1\n",
        "  doc_ids = set(sample_submission.query('QueryId == @real_query_id').iloc[:,1].values)\n",
        "  bm25_score_dict = dict(filter(lambda x: x[0] in doc_ids, bm25_score_dict.items()))  \n",
        "  docs = list(map(lambda x: x[0], sorted(bm25_score_dict.items(), key=lambda x: x[1], reverse=True)))[:10]\n",
        "  sub_list.extend([[real_query_id, docs[i]] for i in range(len(docs))])"
      ],
      "execution_count": 265,
      "outputs": [
        {
          "output_type": "display_data",
          "data": {
            "application/vnd.jupyter.widget-view+json": {
              "model_id": "7ef8dd495e584cb1a225349ed8d061a0",
              "version_minor": 0,
              "version_major": 2
            },
            "text/plain": [
              "HBox(children=(FloatProgress(value=0.0, max=400.0), HTML(value='')))"
            ]
          },
          "metadata": {
            "tags": []
          }
        },
        {
          "output_type": "stream",
          "text": [
            "\n"
          ],
          "name": "stdout"
        }
      ]
    },
    {
      "cell_type": "code",
      "metadata": {
        "id": "SIdH12d8Tdvg"
      },
      "source": [
        "module = hub.load('https://tfhub.dev/google/universal-sentence-encoder-multilingual-qa/3')"
      ],
      "execution_count": null,
      "outputs": []
    },
    {
      "cell_type": "code",
      "metadata": {
        "id": "IP7H6oKGTyRA"
      },
      "source": [
        "question_embeddings = module.signatures['question_encoder'](\n",
        "            tf.constant(questions))['outputs'].numpy()\n",
        "response_embeddings = module.signatures['response_encoder'](\n",
        "        input=tf.constant(responses),\n",
        "        context=tf.constant(response_contexts))['outputs'].numpy()\n",
        "cosine_sim(question_embeddings, response_embeddings)"
      ],
      "execution_count": null,
      "outputs": []
    },
    {
      "cell_type": "code",
      "metadata": {
        "id": "YBB1o21sT8c9"
      },
      "source": [
        "def arccosine_sim(emb1, emb2):\n",
        "    sim = 1 - np.arccos(\n",
        "      sklearn.metrics.pairwise.cosine_similarity(emb1,\n",
        "                                                 emb2))/np.pi\n",
        "    return sim"
      ],
      "execution_count": null,
      "outputs": []
    },
    {
      "cell_type": "code",
      "metadata": {
        "id": "FyBtiUvRlx_U"
      },
      "source": [
        "poss = defaultdict(list)\n",
        "\n",
        "for query_id in range(1, 400):\n",
        "    rmpdata = samples.loc[samples['QueryId'] == query_id]\n",
        "    tmp = 0\n",
        "    for rw in rmpdata.iterrows():\n",
        "        tmp += 1\n",
        "        documentId = rw[1]['DocumentId']\n",
        "        poss[query_id].append(documentId)\n",
        "        if tmp == 25: break"
      ],
      "execution_count": null,
      "outputs": []
    },
    {
      "cell_type": "code",
      "metadata": {
        "id": "lQIyXKklTpnC"
      },
      "source": [
        "quaries_ids = []\n",
        "docs = []\n",
        "\n",
        "for query_id in tqdm(range(1, len(queries)+1)):\n",
        "\n",
        "    lizt = poss[query_id]\n",
        "    query = q_array[i-1]\n",
        "    score_dict = {}\n",
        "\n",
        "    for rel_doc in lizt:\n",
        "\n",
        "        title = files_words[rel_doc]\n",
        "        question_embeddings = module.signatures['question_encoder'](tf.constant(query))['outputs'].numpy()\n",
        "        response_embeddings = module.signatures['response_encoder'](input=tf.constant(title), context=tf.constant(title))['outputs'].numpy()\n",
        "        cos_sim = arccosine_sim(question_embeddings, response_embeddings)\n",
        "        score_dict[rel_doc] = cos_sim\n",
        "\n",
        "    sorted_values = sorted(score_dict, key=score_dict.get, reverse=True)\n",
        "    docs.extend(sorted_values)\n",
        "\n",
        "    for _ in range(len(sorted_values)):\n",
        "        quaries_ids.append(query_id)"
      ],
      "execution_count": null,
      "outputs": []
    },
    {
      "cell_type": "code",
      "metadata": {
        "id": "-I0GUEGymQXl"
      },
      "source": [
        "submission = pd.DataFrame({'QueryId' : quaries_ids, 'DocumentId' : docs})\n",
        "submission.to_csv('new_try_submission.csv', index=False)"
      ],
      "execution_count": null,
      "outputs": []
    },
    {
      "cell_type": "code",
      "metadata": {
        "id": "yV-jv6pzmK3-"
      },
      "source": [
        "# submission = pd.DataFrame({'QueryId': np.array(sub_list)[:,0], 'DocumentId': np.array(sub_list)[:,1]})\n",
        "# submission\n",
        "# submission.to_csv('new_try_submission.csv', index=False)"
      ],
      "execution_count": null,
      "outputs": []
    }
  ]
}